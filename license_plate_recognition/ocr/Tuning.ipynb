{
 "cells": [
  {
   "cell_type": "code",
   "execution_count": null,
   "metadata": {},
   "outputs": [],
   "source": [
    "import torch\n",
    "import torch.nn as nn\n",
    "import torch.optim as optim\n",
    "from torch.optim import lr_scheduler\n",
    "import numpy as np\n",
    "import torchvision\n",
    "from torchvision import datasets, models, transforms\n",
    "import matplotlib.pyplot as plt\n",
    "import time\n",
    "import os\n",
    "import copy\n",
    "import math"
   ]
  },
  {
   "cell_type": "code",
   "execution_count": null,
   "metadata": {},
   "outputs": [],
   "source": [
    "cuda_availability = torch.cuda.is_available()\n",
    "\n",
    "device = torch.device('cuda:0' if cuda_availability else 'cpu')\n",
    "print('CUDA availability:', ('True' if cuda_availability else 'False'))\n",
    "print('Device:', device)\n",
    "\n",
    "class_names = [str(x) for x in range(10)]+list('ABCDEFGHIJKLMNOPQRSTUVWXYZ')+list('abcdefghijklmnopqrstuvwxyz')"
   ]
  },
  {
   "cell_type": "markdown",
   "metadata": {},
   "source": [
    "### Hyperparameters"
   ]
  },
  {
   "cell_type": "code",
   "execution_count": null,
   "metadata": {},
   "outputs": [],
   "source": [
    "batch_size = 16\n",
    "num_epochs = 16"
   ]
  },
  {
   "cell_type": "markdown",
   "metadata": {},
   "source": [
    "#### Transforms"
   ]
  },
  {
   "cell_type": "code",
   "execution_count": null,
   "metadata": {},
   "outputs": [],
   "source": [
    "mean=[0.5] * 3\n",
    "std=[0.5] * 3\n",
    "\n",
    "def binarize(im):\n",
    "    im = (im-im.min()) / (im.max()-im.min())\n",
    "    im = im > 0.55\n",
    "    im = im.float()\n",
    "    return im\n",
    "\n",
    "trans = transforms.Compose([\n",
    "    transforms.Resize((80,64)),\n",
    "    transforms.Grayscale(3),\n",
    "    transforms.ToTensor(),\n",
    "    transforms.Normalize(\n",
    "        mean=mean,\n",
    "        std=std\n",
    "    ),\n",
    "    transforms.Lambda(binarize)\n",
    "])"
   ]
  },
  {
   "cell_type": "markdown",
   "metadata": {},
   "source": [
    "### Dataloaders"
   ]
  },
  {
   "cell_type": "code",
   "execution_count": null,
   "metadata": {},
   "outputs": [],
   "source": [
    "train_path = 'EnglishImg/train'\n",
    "test_path = 'test'\n",
    "\n",
    "char_datasets = datasets.ImageFolder(train_path, trans)\n",
    "test_dataset = datasets.ImageFolder(test_path, trans)\n",
    "\n",
    "train_size = int(0.8*len(char_datasets))\n",
    "val_size = len(char_datasets)-train_size\n",
    "trainset, valset = torch.utils.data.random_split(char_datasets, [train_size, val_size])\n",
    "\n",
    "char_datasets = {'train':trainset,'val':valset}\n",
    "\n",
    "dataloaders = {x: torch.utils.data.DataLoader(char_datasets[x], batch_size=batch_size, shuffle=True, num_workers=4) for x in ['train', 'val']}\n",
    "dataset_sizes = {x: len(char_datasets[x]) for x in ['train', 'val']}\n",
    "char_datasets['train'].classes = class_names\n",
    "\n",
    "testloader = torch.utils.data.DataLoader(test_dataset)\n",
    "\n",
    "print('Dataset sizes:', dataset_sizes)"
   ]
  },
  {
   "cell_type": "markdown",
   "metadata": {},
   "source": [
    "### Sample batch"
   ]
  },
  {
   "cell_type": "code",
   "execution_count": null,
   "metadata": {},
   "outputs": [],
   "source": [
    "def imshow(im, title=None, save=None):\n",
    "    im = im.numpy().transpose((1, 2, 0))\n",
    "    plt.imshow(im)\n",
    "    if title is not None:\n",
    "        plt.title(title)\n",
    "    if save is not None:\n",
    "        plt.savefig(save)\n",
    "\n",
    "inputs, classes = next(iter(dataloaders['train']))\n",
    "out = torchvision.utils.make_grid(inputs)\n",
    "\n",
    "imshow(out, title=f'Sample image(s) {\"\".join(class_names[x] for x in classes)}', save=f'Sample_{batch_size}.png')"
   ]
  },
  {
   "cell_type": "code",
   "execution_count": null,
   "metadata": {},
   "outputs": [],
   "source": [
    "def train(model, criterion, optimizer, scheduler, num_epochs=num_epochs):\n",
    "    since = time.time()\n",
    "\n",
    "    best_model_wts = copy.deepcopy(model.state_dict())\n",
    "    best_acc = 0.0\n",
    "\n",
    "    for epoch in range(num_epochs):\n",
    "        print(f'Epoch {epoch+1}/{num_epochs}')\n",
    "\n",
    "        for phase in ['train', 'val']:\n",
    "            if phase == 'train':\n",
    "                model.train()\n",
    "            else:\n",
    "                model.eval()\n",
    "\n",
    "            running_loss = 0.0\n",
    "            running_corrects = 0\n",
    "\n",
    "            for inputs, labels in dataloaders[phase]:\n",
    "                inputs = inputs.to(device)\n",
    "                labels = labels.to(device)\n",
    "\n",
    "                optimizer.zero_grad()\n",
    "\n",
    "                with torch.set_grad_enabled(phase == 'train'):\n",
    "                    outputs = model(inputs)\n",
    "                    _, preds = torch.max(outputs, 1)\n",
    "                    loss = criterion(outputs, labels)\n",
    "\n",
    "                    # backward + optimize only if in training phase\n",
    "                    if phase == 'train':\n",
    "                        loss.backward()\n",
    "                        optimizer.step()\n",
    "\n",
    "                running_loss += loss.item() * inputs.size(0)\n",
    "                running_corrects += torch.sum(preds == labels.data)\n",
    "\n",
    "            if phase == 'train':\n",
    "                scheduler.step()\n",
    "                \n",
    "            epoch_loss = running_loss / dataset_sizes[phase]\n",
    "            epoch_acc = running_corrects.double() / dataset_sizes[phase]\n",
    "\n",
    "            print('{} Loss: {:.4f} Acc: {:.4f}'.format(\n",
    "                phase, epoch_loss, epoch_acc))\n",
    "\n",
    "            # deep copy the model\n",
    "            if phase == 'val' and epoch_acc > best_acc:\n",
    "                best_acc = epoch_acc\n",
    "                best_model_wts = copy.deepcopy(model.state_dict())\n",
    "\n",
    "        print()\n",
    "\n",
    "    time_elapsed = time.time() - since\n",
    "    print('Training complete in {:.0f}m {:.0f}s'.format(\n",
    "        time_elapsed // 60, time_elapsed % 60))\n",
    "    print('Best val Acc: {:4f}'.format(best_acc))\n",
    "\n",
    "    # load best model weights\n",
    "    model.load_state_dict(best_model_wts)\n",
    "    return model"
   ]
  },
  {
   "cell_type": "code",
   "execution_count": null,
   "metadata": {},
   "outputs": [],
   "source": [
    "def visualize_model(model, dataloader, num_images=batch_size):\n",
    "    was_training = model.training\n",
    "    model.eval()\n",
    "    images_so_far = 0\n",
    "    img_total = 0\n",
    "    fig = plt.figure(figsize=(8,6))\n",
    "    \n",
    "    correct = 0\n",
    "\n",
    "    with torch.no_grad():\n",
    "        for i, (inputs, labels) in enumerate(dataloader):\n",
    "            inputs = inputs.to(device)\n",
    "            labels = labels.to(device)\n",
    "\n",
    "            outputs = model(inputs)\n",
    "            _, preds = torch.max(outputs, 1)\n",
    "            \n",
    "            correct += torch.sum(preds == labels)\n",
    "            img_total += len(preds)\n",
    "            \n",
    "            for j in range(inputs.size()[0]):\n",
    "                images_so_far += 1\n",
    "                ax = plt.subplot(math.ceil(num_images/8), 8, images_so_far)\n",
    "                ax.axis('off')\n",
    "                ax.set_title(class_names[preds[j]])\n",
    "                imshow(inputs.cpu().data[j])\n",
    "\n",
    "                if images_so_far == num_images:\n",
    "                    model.train(mode=was_training)\n",
    "                    acc = correct.double() / img_total\n",
    "                    print('Accuracy:', acc.item())\n",
    "                    return acc.item()\n",
    "\n",
    "        acc = correct.double() / img_total\n",
    "        print('Accuracy:', acc.item())\n",
    "        model.train(mode=was_training)\n",
    "        return acc.item()"
   ]
  },
  {
   "cell_type": "code",
   "execution_count": null,
   "metadata": {},
   "outputs": [],
   "source": [
    "model_ft = models.resnet18(pretrained=True)\n",
    "num_ftrs = model_ft.fc.in_features\n",
    "# Here the size of each output sample is set to 2.\n",
    "# Alternatively, it can be generalized to nn.Linear(num_ftrs, len(class_names)).\n",
    "model_ft.fc = nn.Linear(num_ftrs, 62)\n",
    "\n",
    "model_ft = model_ft.to(device)\n",
    "\n",
    "criterion = nn.CrossEntropyLoss()\n",
    "\n",
    "# Observe that all parameters are being optimized\n",
    "optimizer_ft = optim.SGD(model_ft.parameters(), lr=0.001, momentum=0.9)\n",
    "\n",
    "# Decay LR by a factor of 0.1 every 7 epochs\n",
    "exp_lr_scheduler = lr_scheduler.StepLR(optimizer_ft, step_size=7, gamma=0.1)"
   ]
  },
  {
   "cell_type": "code",
   "execution_count": null,
   "metadata": {},
   "outputs": [],
   "source": [
    "model_ft = train(model_ft, criterion, optimizer_ft, exp_lr_scheduler,\n",
    "                       num_epochs=num_epochs)"
   ]
  },
  {
   "cell_type": "markdown",
   "metadata": {},
   "source": [
    "### Save model"
   ]
  },
  {
   "cell_type": "code",
   "execution_count": null,
   "metadata": {},
   "outputs": [],
   "source": [
    "# torch.save(model_ft, f'trained_{batch_size}_{num_epochs}.pth')"
   ]
  },
  {
   "cell_type": "markdown",
   "metadata": {},
   "source": [
    "### Load model"
   ]
  },
  {
   "cell_type": "code",
   "execution_count": null,
   "metadata": {},
   "outputs": [],
   "source": [
    "load_batch = 32\n",
    "load_epochs = 8\n",
    "model_load = torch.load(f'trained_{load_batch}_{load_epochs}.pth')\n",
    "\n",
    "acc = visualize_model(model_load, dataloader=dataloaders['val'], num_images=32)\n",
    "plt.savefig(f'Result_{load_batch}_{load_epochs}_{acc}_{int(round(time.time()) % 24*60)}.png')\n",
    "plt.show()"
   ]
  },
  {
   "cell_type": "code",
   "execution_count": null,
   "metadata": {},
   "outputs": [],
   "source": [
    "load_batch = 32\n",
    "load_epochs = 8\n",
    "model_load = torch.load(f'trained_{load_batch}_{load_epochs}.pth')\n",
    "\n",
    "visualize_model(model_load, dataloader=testloader, num_images=6)\n",
    "\n",
    "plt.savefig(f'Result_{load_batch}_{load_epochs}.png')\n",
    "plt.show()"
   ]
  },
  {
   "cell_type": "code",
   "execution_count": null,
   "metadata": {},
   "outputs": [],
   "source": []
  }
 ],
 "metadata": {
  "kernelspec": {
   "name": "python386jvsc74a57bd0f4a5b050284bec95f273db44ad9640c7cc6922ca0496597f7fd5f33b72a092c4",
   "display_name": "Python 3.8.6 64-bit ('cv2': conda)"
  },
  "language_info": {
   "codemirror_mode": {
    "name": "ipython",
    "version": 3
   },
   "file_extension": ".py",
   "mimetype": "text/x-python",
   "name": "python",
   "nbconvert_exporter": "python",
   "pygments_lexer": "ipython3",
   "version": "3.8.6"
  },
  "metadata": {
   "interpreter": {
    "hash": "f4a5b050284bec95f273db44ad9640c7cc6922ca0496597f7fd5f33b72a092c4"
   }
  }
 },
 "nbformat": 4,
 "nbformat_minor": 4
}